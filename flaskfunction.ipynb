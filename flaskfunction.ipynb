{
 "cells": [
  {
   "cell_type": "markdown",
   "metadata": {},
   "source": [
    "Page 1\n",
    "------\n",
    "\n",
    "APP\n",
    "- [ ] récupérer les artistes (names), ID VS names (+ lookup table) ?\n",
    "\n",
    "UI\n",
    "- [ ] afficher les artistes (tableaux / liste / autre au choix)\n",
    "- [ ] sélection des artistes (sélections multiple)\n",
    "- [ ] button / Post (envoyer la sélection)\n",
    "\n",
    "\n",
    "\n",
    "Page 2\n",
    "------\n",
    "\n",
    "APP\n",
    "- [ ] récupérer les ids (d'artistes)\n",
    "- [ ] vectoriser l'utilisateur\n",
    "- [ ] concaténer l'utilisateur dans la matrice de ratings.\n",
    "- [ ] fitter le modèle\n",
    "- [ ] l'ID de l'user:  user_id <-  ?\n",
    "- [ ] définir la liste d'artistes pour le caclul du score:  artists_ids <- ?\n",
    "- [ ] faire tourner get_recommandations((user_id, [artists_ids])\n",
    "- [ ] retourner les meilleurs recommandations ? (limiter le nombre)\n",
    "\n",
    "UI\n",
    "- [ ] affichage des recommandations :  nom des artistes (+bonus  afficher le score) \n",
    "- [ ] liens vers Page 1"
   ]
  },
  {
   "cell_type": "code",
   "execution_count": 61,
   "metadata": {},
   "outputs": [],
   "source": [
    "import pandas as pd\n",
    "import numpy as np\n",
    "\n",
    "from lightfm import LightFM\n",
    "\n",
    "from scipy.sparse import csr_matrix\n",
    "from lightfm import LightFM\n",
    "from lightfm.cross_validation import random_train_test_split\n",
    "from lightfm.data import Dataset\n",
    "\n",
    "from scipy.sparse import coo_matrix, vstack\n"
   ]
  },
  {
   "cell_type": "code",
   "execution_count": 62,
   "metadata": {},
   "outputs": [],
   "source": [
    "def Datartist ():\n",
    "    plays = pd.read_csv('data/lastfm/user_artists.dat', sep='\\t')\n",
    "    artists = pd.read_csv('data/lastfm/artists.dat', sep='\\t', usecols=['id','name'])\n",
    "    # Merge artist and user pref data\n",
    "    ap = pd.merge(artists, plays, how=\"inner\", left_on=\"id\", right_on=\"artistID\")\n",
    "    ap = ap.rename(columns={\"weight\": \"playCount\"})\n",
    "    artist_name = ap['name']\n",
    "    return ap"
   ]
  },
  {
   "cell_type": "code",
   "execution_count": 28,
   "metadata": {},
   "outputs": [],
   "source": [
    "ap = Datartist()\n",
    "\n"
   ]
  },
  {
   "cell_type": "code",
   "execution_count": 63,
   "metadata": {},
   "outputs": [],
   "source": [
    "def listartist (ap) :\n",
    "    # Group artist by name\n",
    "    artist_rank = ap.groupby(['name']) \\\n",
    "        .agg({'userID' : 'count', 'playCount' : 'sum'}) \\\n",
    "        .rename(columns={\"userID\" : 'totalUsers', \"playCount\" : \"totalPlays\"}) \\\n",
    "        .sort_values(['totalPlays'], ascending=False)\n",
    "\n",
    "    artist_rank['avgPlays'] = artist_rank['totalPlays'] / artist_rank['totalUsers']\n",
    "\n",
    "    artist_name = ap['name'].unique()\n",
    "    \n",
    "    # Merge into ap matrix\n",
    "    ap = ap.join(artist_rank, on=\"name\", how=\"inner\") \\\n",
    "    .sort_values(['playCount'], ascending=False)\n",
    "\n",
    "    # Preprocessing\n",
    "    pc = ap.playCount\n",
    "    play_count_scaled = (pc - pc.min()) / (pc.max() - pc.min())\n",
    "    ap = ap.assign(playCountScaled=play_count_scaled)\n",
    "    #print(ap)\n",
    "\n",
    "    # Build a user-artist rating matrix \n",
    "    ratings_df = ap.pivot(index='userID', columns='artistID', values='playCountScaled')\n",
    "    ratings = ratings_df.fillna(0).values\n",
    "    \n",
    "    artist_names = ap.sort_values(\"artistID\")[\"name\"].unique()\n",
    "    \n",
    "    return ratings, artist_names\n",
    "    "
   ]
  },
  {
   "cell_type": "code",
   "execution_count": 82,
   "metadata": {},
   "outputs": [],
   "source": [
    "\n",
    "def buildSM(ratings) : \n",
    "    # Build a sparse matrix\n",
    "    X = csr_matrix(ratings)\n",
    "    return X\n",
    "\n",
    "\n"
   ]
  },
  {
   "cell_type": "code",
   "execution_count": 96,
   "metadata": {},
   "outputs": [],
   "source": [
    "def modeloptimal():\n",
    "    # définition du model  avec la combinaison de paramètres qui permet d'optimiser le modèle : 0.81 est la suivante \n",
    "    modeloptimal = LightFM(learning_schedule = 'adadelta',loss='warp', learning_rate=0.08)\n",
    "    return modeloptimal"
   ]
  },
  {
   "cell_type": "code",
   "execution_count": 89,
   "metadata": {},
   "outputs": [],
   "source": [
    "def get_recommendation(model, data, user_id ,artist_names, n):\n",
    "    n_users, n_items = data.shape\n",
    "    scores = model.predict(user_id, np.arange(n_items))\n",
    "    top_items = artist_names[np.argsort(-scores)]\n",
    "    \n",
    "    return  top_items [:n]"
   ]
  },
  {
   "cell_type": "code",
   "execution_count": 79,
   "metadata": {},
   "outputs": [],
   "source": [
    "# vectoriser la liste listeName introduite par l'utilisateur\n",
    "\n",
    "def vectoriserlistArtists(listIndex ,  n) :\n",
    "    # reprsente la taille de notre vecteur n = 17631\n",
    "    Z = np.zeros(shape = (1,n))\n",
    "    for index in listIndex:\n",
    "        # la valeur 1 sera remplacée par la moyenne playCountScaled de l'artiste en question\n",
    "        Z[0][index] = 1\n",
    "    \n",
    "    return Z\n",
    "\n"
   ]
  },
  {
   "cell_type": "code",
   "execution_count": 68,
   "metadata": {},
   "outputs": [],
   "source": [
    "# trouver la liste des index d'artistes introduits par l'utilisateur\n",
    "def listIndexArtist(listName, artist_name):\n",
    "    \n",
    "    listIndex = []\n",
    "    for name in listName :\n",
    "        listIndex.append(list(artist_name).index(name))\n",
    "    return listIndex\n",
    "\n"
   ]
  },
  {
   "cell_type": "code",
   "execution_count": 91,
   "metadata": {},
   "outputs": [
    {
     "data": {
      "text/plain": [
       "array(['Radiohead', 'Depeche Mode', 'The Beatles', 'Metallica',\n",
       "       'Pink Floyd', 'Muse', 'Rammstein', 'Linkin Park', 'Placebo',\n",
       "       'Lady Gaga'], dtype=object)"
      ]
     },
     "execution_count": 91,
     "metadata": {},
     "output_type": "execute_result"
    }
   ],
   "source": [
    "ap = Datartist()\n",
    "\n",
    "# Build a user-artist rating matrix \n",
    "ratings, artist_names = listartist (ap)\n",
    "\n",
    "# Build a sparse matrix\n",
    "X = buildSM(ratings)\n",
    "\n",
    "\n",
    "\n",
    "# definition du modèle optimal\n",
    "model = modeloptimal ()  \n",
    "\n",
    "\n",
    "# recupérer la liste des artiste à patir du serveur flask\n",
    "###############\n",
    "\n",
    "\n",
    "# listNameliste introduite par l'utilisateur : exemple avec les 3 premiers et les 3 derniers\n",
    "listName = ['MALICE MIZER', 'Diary of Dreams', 'Carpathian Forest','Coptic Rain', 'Oz Alchemist', 'Grzegorz Tomczak']\n",
    "\n",
    "#  recupérer les index de la liste des artistes introduite par l'user\n",
    "listIndex = listIndexArtist(listName,artist_name) \n",
    "\n",
    "#vectoriser la liste des artistes données par l'utilisateur à partir de la liste d'index\n",
    "# newVect a la laille n de la matrice sparce X.shape[1] : nbr d'artistes\n",
    "newVect = vectoriserlistArtists(listIndex , X.shape[1])  \n",
    "\n",
    "# add the new row to ths space matrix\n",
    "NewX = vstack([X,newVect])\n",
    "\n",
    "model.fit(NewX, epochs=10, num_threads=2)\n",
    "\n",
    "userId = NewX.shape[0]\n",
    "recommandation = get_recommendation(model, NewX, userId-1 ,artist_names,10)"
   ]
  },
  {
   "cell_type": "code",
   "execution_count": 92,
   "metadata": {},
   "outputs": [
    {
     "data": {
      "text/plain": [
       "(1893, 17632)"
      ]
     },
     "execution_count": 92,
     "metadata": {},
     "output_type": "execute_result"
    }
   ],
   "source": [
    "NewX.shape"
   ]
  },
  {
   "cell_type": "code",
   "execution_count": 97,
   "metadata": {},
   "outputs": [
    {
     "data": {
      "text/plain": [
       "array(['MALICE MIZER', 'Diary of Dreams', 'Carpathian Forest', ...,\n",
       "       'Coptic Rain', 'Oz Alchemist', 'Grzegorz Tomczak'], dtype=object)"
      ]
     },
     "execution_count": 97,
     "metadata": {},
     "output_type": "execute_result"
    }
   ],
   "source": [
    "artist_names"
   ]
  },
  {
   "cell_type": "code",
   "execution_count": 98,
   "metadata": {},
   "outputs": [],
   "source": [
    "listIndex = listIndexArtist(listName,artist_name) "
   ]
  },
  {
   "cell_type": "code",
   "execution_count": 99,
   "metadata": {},
   "outputs": [
    {
     "data": {
      "text/plain": [
       "[0, 1, 2, 17629, 17630, 17631]"
      ]
     },
     "execution_count": 99,
     "metadata": {},
     "output_type": "execute_result"
    }
   ],
   "source": [
    "listIndex"
   ]
  },
  {
   "cell_type": "code",
   "execution_count": 102,
   "metadata": {},
   "outputs": [
    {
     "data": {
      "text/plain": [
       "1"
      ]
     },
     "execution_count": 102,
     "metadata": {},
     "output_type": "execute_result"
    }
   ],
   "source": [
    "list(artist_names).index('Diary of Dreams')"
   ]
  },
  {
   "cell_type": "code",
   "execution_count": 103,
   "metadata": {},
   "outputs": [
    {
     "data": {
      "text/plain": [
       "array(['MALICE MIZER', 'Diary of Dreams', 'Carpathian Forest', ...,\n",
       "       'Coptic Rain', 'Oz Alchemist', 'Grzegorz Tomczak'], dtype=object)"
      ]
     },
     "execution_count": 103,
     "metadata": {},
     "output_type": "execute_result"
    }
   ],
   "source": [
    "artist_names"
   ]
  },
  {
   "cell_type": "code",
   "execution_count": 119,
   "metadata": {},
   "outputs": [],
   "source": [
    "import random  \n",
    "      \n",
    "ma_liste = [0,1,2,3,4,5,6,7,8,9,10,11,12,13,14,15]  \n",
    "      \n",
    "# Obtenir un élément au hasard  \n",
    "un_element = random.choice(ma_liste)  \n",
    "      \n",
    "# Obtenir échantillon de 6 éléments  \n",
    "echantillon = random.sample(ma_liste, 6)  "
   ]
  },
  {
   "cell_type": "code",
   "execution_count": 120,
   "metadata": {},
   "outputs": [
    {
     "data": {
      "text/plain": [
       "[6, 1, 7, 2, 8, 11]"
      ]
     },
     "execution_count": 120,
     "metadata": {},
     "output_type": "execute_result"
    }
   ],
   "source": [
    "echantillon"
   ]
  },
  {
   "cell_type": "code",
   "execution_count": 121,
   "metadata": {},
   "outputs": [],
   "source": [
    "def ArtistRandom (liste, nbr):\n",
    "    # Obtenir échantillon de 6 éléments  \n",
    "    selection = random.sample(liste, nbr) \n",
    "    return selection\n",
    "                    "
   ]
  },
  {
   "cell_type": "code",
   "execution_count": 138,
   "metadata": {},
   "outputs": [],
   "source": [
    "l1 = ArtistRandom(list(artist_names), 10)"
   ]
  },
  {
   "cell_type": "code",
   "execution_count": 145,
   "metadata": {},
   "outputs": [],
   "source": [
    "def recommandation (l,n) :\n",
    "    listIndex = listIndexArtist(l1,artist_name) \n",
    "    newVect = vectoriserlistArtists(listIndex , X.shape[1])\n",
    "    NewX = vstack([X,newVect])\n",
    "\n",
    "    model.fit(NewX, epochs=10, num_threads=2)\n",
    "\n",
    "    userId = NewX.shape[0]\n",
    "    recommandation = get_recommendation(model, NewX, userId-1 ,artist_names,n)\n",
    "    return recommandation"
   ]
  },
  {
   "cell_type": "code",
   "execution_count": 151,
   "metadata": {},
   "outputs": [
    {
     "name": "stdout",
     "output_type": "stream",
     "text": [
      " liste random : ['Have Heart', 'Ahmed Bukhatir', 'Мутант Ъхвлам', 'Boom Boom Satellites', 'Portishead', 'E-Rotic', 'Voxtrot', 'Enoch Light', 'Yeong-wook Jo', 'Buried Inside']\n",
      " recommandation : ['Deep Purple' 'Sodom' 'Whitesnake' 'Behemoth' 'Megadeth' 'Uriah Heep'\n",
      " 'Kreator' 'Iron Maiden' 'W.A.S.P.' 'Metin & Kemal Kahraman']\n"
     ]
    }
   ],
   "source": [
    "l = ArtistRandom(list(artist_names), 10)\n",
    "print(f\" liste random : {l}\")\n",
    "r = recommandation (l,10)\n",
    "print(f\" recommandation : {r}\")"
   ]
  },
  {
   "cell_type": "code",
   "execution_count": 152,
   "metadata": {},
   "outputs": [
    {
     "name": "stdout",
     "output_type": "stream",
     "text": [
      " liste random : ['Älymystö', 'Men at Work', 'Stormlord', 'Mephisto Walz', 'Aura Dione', 'Anberlin', 'The Hush Sound', 'Alberto Iglesias', 'Bonnie Raitt', 'Syrian']\n",
      " recommandation : ['Rory Gallagher' 'Beenie Man' 'Henry Mancini' 'Stray Cats' 'Luctus'\n",
      " 'Sonny Boy Williamson' 'Roy Buchanan' 'Blut aus Nord' 'Wynonie Harris'\n",
      " 'The Fixx']\n"
     ]
    }
   ],
   "source": [
    "l = ArtistRandom(list(artist_names), 10)\n",
    "print(f\" liste random : {l}\")\n",
    "r = recommandation (l,10)\n",
    "print(f\" recommandation : {r}\")"
   ]
  }
 ],
 "metadata": {
  "kernelspec": {
   "display_name": "Python 3",
   "language": "python",
   "name": "python3"
  },
  "language_info": {
   "codemirror_mode": {
    "name": "ipython",
    "version": 3
   },
   "file_extension": ".py",
   "mimetype": "text/x-python",
   "name": "python",
   "nbconvert_exporter": "python",
   "pygments_lexer": "ipython3",
   "version": "3.7.9"
  }
 },
 "nbformat": 4,
 "nbformat_minor": 4
}
